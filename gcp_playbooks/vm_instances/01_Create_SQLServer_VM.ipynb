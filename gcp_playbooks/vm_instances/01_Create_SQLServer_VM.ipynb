{
  "nbformat": 4,
  "nbformat_minor": 0,
  "metadata": {
    "colab": {
      "provenance": [],
      "authorship_tag": "ABX9TyPVgNxGz7ISMPwoebHccJs5",
      "include_colab_link": true
    },
    "kernelspec": {
      "name": "python3",
      "display_name": "Python 3"
    },
    "language_info": {
      "name": "python"
    }
  },
  "cells": [
    {
      "cell_type": "markdown",
      "metadata": {
        "id": "view-in-github",
        "colab_type": "text"
      },
      "source": [
        "<a href=\"https://colab.research.google.com/github/easycloudapi/cloudapi/blob/main/gcp_playbooks/vm_instances/01_Create_SQLServer_VM.ipynb\" target=\"_parent\"><img src=\"https://colab.research.google.com/assets/colab-badge.svg\" alt=\"Open In Colab\"/></a>"
      ]
    },
    {
      "cell_type": "markdown",
      "source": [
        "# Creating SQL Server VM instances\n",
        "\n",
        "### Ref:\n",
        "1. https://cloud.google.com/compute/docs/instances/sql-server/creating-sql-server-instances#gcloud"
      ],
      "metadata": {
        "id": "_Asv71Rli3i1"
      }
    }
  ]
}